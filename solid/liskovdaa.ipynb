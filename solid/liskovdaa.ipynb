{
 "cells": [
  {
   "cell_type": "markdown",
   "metadata": {},
   "source": [
    "liskov"
   ]
  },
  {
   "cell_type": "code",
   "execution_count": null,
   "metadata": {},
   "outputs": [],
   "source": [
    "class Hotel:\n",
    "    def __init__(self, nombre):\n",
    "        self.nombre = nombre\n",
    "\n",
    "    def hacer_reserva(self, auto, tipo_aceleracion):\n",
    "        # Supongamos que el hotel acepta la reserva si el tipo de aceleración es 'rapida'.\n",
    "        if tipo_aceleracion == 'rapida':\n",
    "            return True\n",
    "        else:\n",
    "            return False\n",
    "\n",
    "class Automovil:\n",
    "    def __init__(self, modelo, marca, color):\n",
    "        self.modelo = modelo\n",
    "        self.marca = marca\n",
    "        self.color = color\n",
    "        self._estado = 'en_reposo'\n",
    "\n",
    "    def acelerar(self, tipo='despacio'):\n",
    "        if tipo == 'rapida':\n",
    "            self._estado = 'en_movimiento'\n",
    "            return 100\n",
    "        elif tipo == 'despacio':\n",
    "            self._estado = 'en_movimiento_despacio'\n",
    "            return 10\n",
    "\n",
    "class Huesped:\n",
    "    def __init__(self, nombre):\n",
    "        self.nombre = nombre\n",
    "\n",
    "    def recibir_notificacion(self, mensaje):\n",
    "        print(\"Notificación para el huésped:\", mensaje)\n",
    "\n",
    "class Reserva:\n",
    "    def __init__(self, huesped, exitosa):\n",
    "        self.huesped = huesped\n",
    "        self.exitosa = exitosa\n",
    "\n",
    "    def notificar_huesped(self):\n",
    "        if self.exitosa:\n",
    "            self.huesped.recibir_notificacion(\"¡Su reserva ha sido exitosa!\")\n",
    "        else:\n",
    "            self.huesped.recibir_notificacion(\"Lo sentimos, no pudimos completar su reserva.\")\n",
    "\n"
   ]
  },
  {
   "cell_type": "markdown",
   "metadata": {},
   "source": [
    "uso"
   ]
  },
  {
   "cell_type": "code",
   "execution_count": null,
   "metadata": {},
   "outputs": [],
   "source": [
    "\n",
    "\n",
    "hotel = Hotel(\"Hotel Velocidad\")\n",
    "auto = Automovil(modelo='Serie 3', marca='BMW', color=\"Azul\")\n",
    "huesped = Huesped(\"Juan\")\n"
   ]
  },
  {
   "cell_type": "markdown",
   "metadata": {},
   "source": [
    "correcto (tipo de aceleración rapida)\n"
   ]
  },
  {
   "cell_type": "code",
   "execution_count": null,
   "metadata": {},
   "outputs": [],
   "source": [
    "\n",
    "\n",
    "reserva_exitosa = hotel.hacer_reserva(auto, 'rapida')\n",
    "reserva_exitosa_notificacion = Reserva(huesped, reserva_exitosa)\n",
    "reserva_exitosa_notificacion.notificar_huesped()\n"
   ]
  },
  {
   "cell_type": "markdown",
   "metadata": {},
   "source": [
    "\n",
    "incorrecto  (tipo de aceleración lenta)"
   ]
  },
  {
   "cell_type": "code",
   "execution_count": null,
   "metadata": {},
   "outputs": [],
   "source": [
    "\n",
    "reserva_fallida = hotel.hacer_reserva(auto, 'lento')\n",
    "reserva_fallida_notificacion = Reserva(huesped, reserva_fallida)\n",
    "reserva_fallida_notificacion.notificar_huesped()"
   ]
  }
 ],
 "metadata": {
  "language_info": {
   "name": "python"
  }
 },
 "nbformat": 4,
 "nbformat_minor": 2
}
