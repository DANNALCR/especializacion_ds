{
 "cells": [
  {
   "cell_type": "markdown",
   "metadata": {},
   "source": [
    "dependencia \n"
   ]
  },
  {
   "cell_type": "code",
   "execution_count": null,
   "metadata": {},
   "outputs": [],
   "source": [
    "from abc import ABC, abstractmethod\n",
    "\n",
    "class ReservationSystem(ABC):\n",
    "    @abstractmethod\n",
    "    def check_availability(self, room_type, check_in_date, check_out_date):\n",
    "        pass\n",
    "\n",
    "    @abstractmethod\n",
    "    def reserve_room(self, room_type, check_in_date, check_out_date, guest_info):\n",
    "        pass\n",
    "\n",
    "    @abstractmethod\n",
    "    def cancel_reservation(self, reservation_id):\n",
    "        pass\n",
    "\n",
    "class HotelReservationSystem(ReservationSystem):\n",
    "    def check_availability(self, room_type, check_in_date, check_out_date):\n",
    "        print(f\"Checking availability of {room_type} from {check_in_date} to {check_out_date}\")\n",
    "\n",
    "    def reserve_room(self, room_type, check_in_date, check_out_date, guest_info):\n",
    "        print(f\"Reserving {room_type} from {check_in_date} to {check_out_date} for {guest_info}\")\n",
    "\n",
    "    def cancel_reservation(self, reservation_id):\n",
    "        print(f\"Cancelling reservation with ID: {reservation_id}\")\n",
    "\n",
    "class GuestReservationSystem(ReservationSystem):\n",
    "    def check_availability(self, room_type, check_in_date, check_out_date):\n",
    "        print(f\"Checking availability of {room_type} from {check_in_date} to {check_out_date}\")\n",
    "\n",
    "    def reserve_room(self, room_type, check_in_date, check_out_date, guest_info):\n",
    "        print(f\"Reserving {room_type} from {check_in_date} to {check_out_date} for {guest_info}\")\n",
    "\n",
    "    def cancel_reservation(self, reservation_id):\n",
    "        print(f\"Cancelling reservation with ID: {reservation_id}\")\n",
    "\n",
    "class BudgetReport:\n",
    "    def __init__(self, reservation_system: ReservationSystem):\n",
    "        self.__reservation_system = reservation_system\n",
    "\n",
    "    def open(self):\n",
    "        self.__reservation_system.check_availability(\"single\", \"2024-05-01\", \"2024-05-03\")\n",
    "\n",
    "    def save(self):\n",
    "        self.__reservation_system.reserve_room(\"single\", \"2024-05-01\", \"2024-05-03\", \"John Doe\")\n"
   ]
  },
  {
   "cell_type": "markdown",
   "metadata": {},
   "source": [
    "correcto\n"
   ]
  },
  {
   "cell_type": "code",
   "execution_count": null,
   "metadata": {},
   "outputs": [],
   "source": [
    "\n",
    "# Caso Exitoso\n",
    "hotel_reservation_system = HotelReservationSystem()\n",
    "guest_reservation_system = GuestReservationSystem()\n",
    "\n",
    "budget = BudgetReport(hotel_reservation_system)\n",
    "budget.open()\n",
    "\n",
    "budget2 = BudgetReport(guest_reservation_system)\n",
    "budget2.open()\n"
   ]
  },
  {
   "cell_type": "markdown",
   "metadata": {},
   "source": [
    "incorreto \n"
   ]
  },
  {
   "cell_type": "code",
   "execution_count": null,
   "metadata": {},
   "outputs": [],
   "source": [
    "class BudgetReport:\n",
    "    def __init__(self):\n",
    "        self.__reservation_system = HotelReservationSystem()  # Violación del principio de inversión de dependencias\n",
    "\n",
    "    def open(self):\n",
    "        self.__reservation_system.check_availability(\"single\", \"2024-05-01\", \"2024-05-03\")\n",
    "\n",
    "    def save(self):\n",
    "        self.__reservation_system.reserve_room(\"single\", \"2024-05-01\", \"2024-05-03\", \"John Doe\")\n",
    "\n",
    "# Caso Erróneo\n",
    "budget = BudgetReport()\n",
    "budget.open()\n"
   ]
  }
 ],
 "metadata": {
  "language_info": {
   "name": "python"
  }
 },
 "nbformat": 4,
 "nbformat_minor": 2
}
